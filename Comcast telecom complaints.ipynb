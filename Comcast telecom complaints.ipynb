{
 "cells": [
  {
   "cell_type": "markdown",
   "metadata": {},
   "source": [
    "DESCRIPTION Comcast is an American global telecommunication company. The firm has been providing terrible customer\n",
    "service. They continue to fall short despite repeated promises to improve. Only last month (October 2016) the authority fined\n",
    "them a $2.3 million, after receiving over 1000 consumer complaints. The existing database will serve as a repository of public\n",
    "customer complaints filed against Comcast. It will help to pin down what is wrong with Comcast's customer service. > Data\n",
    "Dictionary Ticket #: Ticket number assigned to each complaint Customer Complaint: Description of complaint Date: Date of\n",
    "complaint Time: Time of complaint Received Via: Mode of communication of the complaint City: Customer city State:\n",
    "Customer state Zipcode: Customer zip Status: Status of complaint Filing on behalf of someone > Analysis Task To perform\n",
    "these tasks, you can use any of the different Python libraries such as NumPy, SciPy, Pandas, scikit-learn, matplotlib, and\n",
    "BeautifulSoup. 1. Import data into Python environment. 2. Provide the trend chart for the number of complaints at monthly and\n",
    "daily granularity levels. 3. Provide a table with the frequency of complaint types. 4. Which complaint types are maximum i.e.,\n",
    "around internet, network issues, or across any other domains. 5. Create a new categorical variable with value as Open and\n",
    "Closed. Open & Pending is to be categorized as Open and Closed & Solved is to be categorized as Closed. 6. Provide state\n",
    "wise status of complaints in a stacked bar chart. Use the categorized variable from Q3. Provide insights on: 6.1 Which state\n",
    "has the maximum complaints 6.2 Which state has the highest percentage of unresolved complaints 6.3 Provide the\n",
    "percentage of complaints resolved till date, which were received through the Internet and customer care calls. The analysis\n",
    "results to be provided with insights wherever applicable."
   ]
  },
  {
   "cell_type": "markdown",
   "metadata": {},
   "source": [
    " Importing Pandas Library to view the dataset."
   ]
  },
  {
   "cell_type": "code",
   "execution_count": null,
   "metadata": {},
   "outputs": [],
   "source": [
    "import numpy as np\n",
    "import pandas as pd\n",
    "from pandas import Series,DataFrame"
   ]
  },
  {
   "cell_type": "markdown",
   "metadata": {},
   "source": [
    "1. Import data into Python environment."
   ]
  },
  {
   "cell_type": "markdown",
   "metadata": {},
   "source": [
    "Below is the Data regarding Comcast Telecom Customer Complaints"
   ]
  },
  {
   "cell_type": "code",
   "execution_count": null,
   "metadata": {},
   "outputs": [],
   "source": [
    "#1.1 Using read_csv to read the dataset and head to view first 5 rows.\n",
    "comcast_data=pd.read_csv('D:\\pranay\\Python projects files and code\\Comcast_telecom_complaints_data.csv')"
   ]
  },
  {
   "cell_type": "code",
   "execution_count": null,
   "metadata": {},
   "outputs": [],
   "source": [
    "comcast_data"
   ]
  },
  {
   "cell_type": "code",
   "execution_count": null,
   "metadata": {},
   "outputs": [],
   "source": [
    "comcast_data.head()"
   ]
  },
  {
   "cell_type": "code",
   "execution_count": null,
   "metadata": {},
   "outputs": [],
   "source": [
    "comcast_data.tail()"
   ]
  },
  {
   "cell_type": "code",
   "execution_count": null,
   "metadata": {},
   "outputs": [],
   "source": [
    "comcast_data.shape"
   ]
  },
  {
   "cell_type": "code",
   "execution_count": null,
   "metadata": {},
   "outputs": [],
   "source": [
    "comcast_data.columns"
   ]
  },
  {
   "cell_type": "code",
   "execution_count": null,
   "metadata": {},
   "outputs": [],
   "source": [
    "comcast_data.info()"
   ]
  },
  {
   "cell_type": "code",
   "execution_count": null,
   "metadata": {},
   "outputs": [],
   "source": [
    "comcast_data.isnull()"
   ]
  },
  {
   "cell_type": "code",
   "execution_count": null,
   "metadata": {},
   "outputs": [],
   "source": [
    "comcast_data.isnull().sum()"
   ]
  },
  {
   "cell_type": "markdown",
   "metadata": {},
   "source": [
    "2. Provide the trend chart for the number of complaints at monthly and daily granularity levels."
   ]
  },
  {
   "cell_type": "code",
   "execution_count": null,
   "metadata": {},
   "outputs": [],
   "source": [
    "#2.1 To view the graph first we will arrange the dataset by splitting the Date column.\n",
    "comcast_data['Day'],comcast_data['Month'],comcast_data['Year']=comcast_data['Date'].str.split('-',2).str\n",
    "comcast_data.head()"
   ]
  },
  {
   "cell_type": "code",
   "execution_count": null,
   "metadata": {},
   "outputs": [],
   "source": [
    "#2.2 Extracting Months with the counts of Complaints received respectively.\n",
    "DF_by_Months = pd.DataFrame(comcast_data.Month.value_counts())\n",
    "DF_by_Months.columns = ['Counts']\n",
    "DF_Sorted_Months = DF_by_Months.sort_index()\n",
    "DF_Sorted_Months\n"
   ]
  },
  {
   "cell_type": "code",
   "execution_count": null,
   "metadata": {},
   "outputs": [],
   "source": [
    "#2.3 Plotting a graph to show Number of Complaints received at Monthly level.\n",
    "%matplotlib inline\n",
    "import matplotlib as mpl\n",
    "import matplotlib.pyplot as plt\n",
    "\n",
    "plt.plot(DF_Sorted_Months.index.values, DF_Sorted_Months['Counts'])\n",
    "\n",
    "plt.xlabel('Months')\n",
    "\n",
    "plt.ylabel('Number of Complaints Received')\n",
    "\n",
    "plt.title('No. of Complaints at Monthly Level')\n",
    "\n",
    "plt.annotate('Max', ha = 'center', va = 'bottom', xytext= (3,900), xy=(5,1046), arrowprops = {'facecolor' : 'green'})\n",
    "\n",
    "fig = plt.gcf()\n",
    "\n",
    "fig.set_size_inches(12, 8)\n",
    "\n",
    "plt.show()"
   ]
  },
  {
   "cell_type": "code",
   "execution_count": null,
   "metadata": {},
   "outputs": [],
   "source": [
    "#2.4 Printing the Month with Maximum number of Complaints received.\n",
    "print('Month with highest number of received complaints :', DF_Sorted_Months['Counts'].idxmax(), 'with', DF_Sorted_Months['Counts'].max(), 'complaints.')"
   ]
  },
  {
   "cell_type": "markdown",
   "metadata": {},
   "source": [
    "The above plot shows that the maximum number of complaints received are in month of June. > Now we will also look\n",
    "at the plot at Daily level for the whole year"
   ]
  },
  {
   "cell_type": "code",
   "execution_count": null,
   "metadata": {},
   "outputs": [],
   "source": [
    "#2.5 Sorting the Dates in our Data Frame with respective Counts of Complaints received.\n",
    "comcast_data['Date'] = pd.to_datetime(comcast_data['Date'],format='%d-%m-%y')\n",
    "DF_Sorted_Dates = comcast_data.sort_values(by='Date')\n",
    "DF_Dates = DF_Sorted_Dates.loc[:,['Date']]\n",
    "Dates = pd.DataFrame(DF_Dates.Date.value_counts())\n",
    "Dates.columns = ['Counts']\n",
    "Dates.reset_index(inplace=True)\n",
    "Dates = Dates.rename(columns={'index': 'Dates'})\n",
    "Dates['Dates'] = pd.to_datetime(Dates['Dates'],format='%Y-%m-%d')\n",
    "Sorted_Dates = Dates.sort_values(by='Dates')\n",
    "Sorted_Dates"
   ]
  },
  {
   "cell_type": "code",
   "execution_count": null,
   "metadata": {},
   "outputs": [],
   "source": [
    "#2.6 Plotting a graph to show Number of Complaints received at Daily level.\n",
    "plt.plot(Sorted_Dates['Dates'], Sorted_Dates['Counts'])\n",
    "plt.xlabel('Dates')\n",
    "plt.ylabel('Number of Complaints Received')\n",
    "plt.title('No. of Complaints at Daily Level')\n",
    "fig = plt.gcf()\n",
    "fig.set_size_inches(20, 12)\n",
    "plt.show()"
   ]
  },
  {
   "cell_type": "code",
   "execution_count": null,
   "metadata": {},
   "outputs": [],
   "source": [
    "#2.7 Dataframe with Maximum number of Complaints received on a particular Date.\n",
    "Max_Count_Date = Sorted_Dates[Sorted_Dates.Counts == Sorted_Dates.Counts.max()]\n",
    "Max_Count_Date"
   ]
  },
  {
   "cell_type": "markdown",
   "metadata": {},
   "source": [
    "The above plot shows that the maximum number of complaints were received on 24th, June 2015 with 218\n",
    "Complaints. > Additionally we will look at the plot at Daily and Monthly Complaints combined for the whole year."
   ]
  },
  {
   "cell_type": "code",
   "execution_count": null,
   "metadata": {},
   "outputs": [],
   "source": [
    "#2.8 Sorting the Dates and Months in our Data Frame with respective Counts of Complaints received.\n",
    "DF_Month_and_Date = comcast_data.loc[:,['Date', 'Month']]\n",
    "DF_Groupby_Month_and_Date = DF_Month_and_Date.groupby('Date')['Month'].value_counts().unstack().fillna(0)\n",
    "DF_Groupby_Month_and_Date = pd.DataFrame(DF_Groupby_Month_and_Date)\n",
    "DF_Groupby_Month_and_Date.reset_index(inplace=True)\n",
    "\n",
    "#2.9 This shows the number of Complaints received on a daily level for every month.\n",
    "\n",
    "DF_Groupby_Month_and_Date"
   ]
  },
  {
   "cell_type": "code",
   "execution_count": null,
   "metadata": {},
   "outputs": [],
   "source": [
    "DF_Groupby_Month_and_Date['Date'] = pd.to_datetime(DF_Groupby_Month_and_Date['Date'],format='%Y-%m-%d')\n",
    "Sorted_Month_and_Date = DF_Groupby_Month_and_Date.sort_values(by='Date')\n",
    "Sorted_Month_and_Date.columns.name = None\n",
    "\n",
    "#2.10 This will sort the Dates from 1st January 2015 to 31st December 2015\n",
    "\n",
    "Sorted_Month_and_Date"
   ]
  },
  {
   "cell_type": "code",
   "execution_count": null,
   "metadata": {},
   "outputs": [],
   "source": [
    "plt.plot( 'Date', '01', data=Sorted_Month_and_Date, marker='', color='C0', linewidth=2)\n",
    "plt.plot( 'Date', '02', data=Sorted_Month_and_Date, marker='', color='C1', linewidth=2)\n",
    "plt.plot( 'Date', '03', data=Sorted_Month_and_Date, marker='', color='C2', linewidth=2)\n",
    "plt.plot( 'Date', '04', data=Sorted_Month_and_Date, marker='', color='C3', linewidth=2)\n",
    "plt.plot( 'Date', '05', data=Sorted_Month_and_Date, marker='', color='C4', linewidth=2)\n",
    "plt.plot( 'Date', '06', data=Sorted_Month_and_Date, marker='', color='C5', linewidth=2)\n",
    "plt.plot( 'Date', '07', data=Sorted_Month_and_Date, marker='', color='C6', linewidth=2)\n",
    "plt.plot( 'Date', '08', data=Sorted_Month_and_Date, marker='', color='C7', linewidth=2)\n",
    "plt.plot( 'Date', '09', data=Sorted_Month_and_Date, marker='', color='C8', linewidth=2)\n",
    "plt.plot( 'Date', '10', data=Sorted_Month_and_Date, marker='', color='C9', linewidth=2)\n",
    "plt.plot( 'Date', '11', data=Sorted_Month_and_Date, marker='', color='yellow', linewidth=2)\n",
    "plt.plot( 'Date', '12', data=Sorted_Month_and_Date, marker='', color='pink', linewidth=2)\n",
    "plt.xlabel('Dates')\n",
    "plt.ylabel('Number of Complaints Received')\n",
    "plt.title('No. of Complaints at Daily and Monthly Level')\n",
    "fig = plt.gcf()\n",
    "fig.set_size_inches(20, 12)\n",
    "plt.legend()\n",
    "plt.show()\n"
   ]
  },
  {
   "cell_type": "markdown",
   "metadata": {},
   "source": [
    "The above plot shows a trend graph of the Comlaints received for whole year of 2015. > It is clear that most of the\n",
    "complaints are received during month of June. Company shall give more emphasis on their services in Peak Season starting\n",
    "from April to June as the rise in complaints is may be because of the sudden increase in number of users in holiday season."
   ]
  },
  {
   "cell_type": "markdown",
   "metadata": {},
   "source": [
    "3. Provide a table with the frequency of complaint types."
   ]
  },
  {
   "cell_type": "code",
   "execution_count": null,
   "metadata": {},
   "outputs": [],
   "source": [
    "#3.1 For taking out the data regarding frequesncy of Complaint Types, we first standardize the data.\n",
    "#3.2 Lowercase all the words appearing in column 'Customer Complaint'\n",
    "DF_Lower = [w.lower() for w in comcast_data['Customer Complaint']]\n",
    "DF_Complaint_Types = pd.DataFrame(DF_Lower)\n",
    "DF_Complaint_Types.columns = ['Customer_Complaint']\n",
    "DF_Complaint_Types\n"
   ]
  },
  {
   "cell_type": "code",
   "execution_count": null,
   "metadata": {},
   "outputs": [],
   "source": [
    "#3.3 Now we will singularize the words which are available in plural form\n",
    "# When we have complex set of words, stemming is not suitable to singularize words which are in plural form.\n",
    "# So it would be much better to use pattern module. To install it 'pip installpattern'\n",
    "\n",
    "\n"
   ]
  },
  {
   "cell_type": "code",
   "execution_count": null,
   "metadata": {},
   "outputs": [],
   "source": [
    "from pattern.text.en import singularize\n",
    "DF_Complaint_Types_Single = [singularize(plural) for plural in DF_Complaint_Types['Customer_Complaint']]\n",
    "DF_Complaint_Types_Single = pd.DataFrame(DF_Complaint_Types_Single)\n",
    "DF_Complaint_Types_Single.columns = ['Customer_Complaint']\n",
    "DF_Complaint_Types_Single"
   ]
  },
  {
   "cell_type": "code",
   "execution_count": null,
   "metadata": {},
   "outputs": [],
   "source": [
    "#3.4 Describing column 'Customer_Complaint'\n",
    "\n",
    "DF_Complaint_Types_Single.describe()"
   ]
  },
  {
   "cell_type": "markdown",
   "metadata": {},
   "source": [
    "This tells us that maximum frequency of a complaint appearing in the column - 'Customer Complaint' is 102. > We will\n",
    "explore the Complaint Types further more by splitting each words and then taking the frequency."
   ]
  },
  {
   "cell_type": "code",
   "execution_count": null,
   "metadata": {},
   "outputs": [],
   "source": [
    "#3.5 Importing Tfidf Vectorizer from sklearn\n",
    "\n",
    "from sklearn.feature_extraction.text import TfidfVectorizer\n",
    "vecs = TfidfVectorizer()\n",
    "Y = vecs.fit_transform(DF_Complaint_Types_Single['Customer_Complaint'])\n",
    "Y\n",
    "DF_Tfidf = pd.DataFrame(Y.toarray(),columns=vecs.get_feature_names())\n",
    "DF_Tfidf"
   ]
  },
  {
   "cell_type": "markdown",
   "metadata": {},
   "source": [
    "Tfidf check how frequent and common is a word across every document and gives significance to the words. > This\n",
    "is the table with the frequency of complaint types."
   ]
  },
  {
   "cell_type": "markdown",
   "metadata": {},
   "source": [
    "4. Which complaint types are maximum i.e., around internet, network issues, or across any other domains."
   ]
  },
  {
   "cell_type": "code",
   "execution_count": null,
   "metadata": {},
   "outputs": [],
   "source": [
    "# For this, first we will use Count Vectorizer to count the words appearing in eacsentence of column and then summing them up will give the count of appearance of each word.\n",
    "#4.1 Import regular expression and Count Vectorizer\n",
    "\n",
    "import re\n",
    "from sklearn.feature_extraction.text import CountVectorizer\n",
    "\n",
    "vec = CountVectorizer()\n",
    "X = vec.fit_transform(DF_Complaint_Types_Single['Customer_Complaint'])\n"
   ]
  },
  {
   "cell_type": "code",
   "execution_count": null,
   "metadata": {
    "scrolled": false
   },
   "outputs": [],
   "source": [
    "DF_Complaint_Types_Counts = pd.DataFrame(X.toarray(),columns=vec.get_feature_names())\n",
    "DF_Complaint_Types_Counts"
   ]
  },
  {
   "cell_type": "markdown",
   "metadata": {},
   "source": [
    "This table represents the count of every word appearing in a sentence of each column."
   ]
  },
  {
   "cell_type": "code",
   "execution_count": null,
   "metadata": {},
   "outputs": [],
   "source": [
    "#4.2 Now we will take out the frequency of each word appearing in Column Customer Complaint\n",
    "\n",
    "Complaint_Type_Counts = DF_Complaint_Types_Counts.sum(axis = 0)\n",
    "DF_Counts = pd.DataFrame(Complaint_Type_Counts)\n",
    "DF_Counts.columns = ['Counts']\n",
    "DF_Word_Counts = DF_Counts.sort_values(by='Counts')\n",
    "\n",
    "#3. Using tail() will give the topmost appearing words in Customer Complaint\n",
    "\n",
    "DF_Word_Counts.tail(10)"
   ]
  },
  {
   "cell_type": "code",
   "execution_count": null,
   "metadata": {},
   "outputs": [],
   "source": [
    "DF_Maximum_Complaint_Types = DF_Word_Counts.loc[['comcast','internet','service','billing','data','cap', 'speed'],:]\n",
    "DF_Maximum_Complaint_Types.T"
   ]
  },
  {
   "cell_type": "markdown",
   "metadata": {},
   "source": [
    "We can clearly see that the Maximum number of Complaints revolves around: > 1. Comcast with 1246 appearance. >\n",
    "2. Internet with 535 appearance. > 3. service with 482 appearance. > 4. Billing with 294 appearance. > 5. Data with 216\n",
    "appearance. > 6. Cap with 163 appearance. > 7. Speed with 151 appearance."
   ]
  },
  {
   "cell_type": "markdown",
   "metadata": {},
   "source": [
    "5. Create a new categorical variable with value as Open and Closed. Open & Pending is to be categorized as Open\n",
    "and Closed & Solved is to be categorized as Closed."
   ]
  },
  {
   "cell_type": "code",
   "execution_count": null,
   "metadata": {},
   "outputs": [],
   "source": [
    " #5.1 For this we will use if - else statement to convert Open & Pending as Open andClosed & Solved as Closed.\n",
    "comcast_data['Final_Status'] = ['Open' if x =='Open' or x =='Pending' else 'Closed' for x in comcast_data['Status']]\n",
    "comcast_data.head(10)"
   ]
  },
  {
   "cell_type": "markdown",
   "metadata": {},
   "source": [
    "In above table, Status Open & Pending are categorized as Open and Status Closed & Solved are categorized as\n",
    "Closed in a new column - Final_Status"
   ]
  },
  {
   "cell_type": "markdown",
   "metadata": {},
   "source": [
    "6. Provide state wise status of complaints in a stacked bar chart. Use the categorized variable from Q3. Provide\n",
    "insights on: > 6.1 Which state has the maximum complaints > 6.2 Which state has the highest percentage of unresolved\n",
    "complaints > 6.3 Provide the percentage of complaints resolved till date, which were received through the Internet and\n",
    "customer care calls."
   ]
  },
  {
   "cell_type": "code",
   "execution_count": null,
   "metadata": {},
   "outputs": [],
   "source": [
    "#6.1 For this we extract the data only for 3rd Quarter which is 07 for July, 08 forAugust, 09 for September in column \"Month\"\n",
    "DF_Q3 = comcast_data.loc[(comcast_data['Month'] == '07') | (comcast_data['Month'] == '08') | (comcast_data['Month'] == '09'),:]\n",
    "DF_Q3"
   ]
  },
  {
   "cell_type": "code",
   "execution_count": null,
   "metadata": {},
   "outputs": [],
   "source": [
    "#6.2 Extracting State and Final_STatus Columns\n",
    "DF_Q3_States = DF_Q3.loc[:,['State', 'Final_Status']]\n",
    "DF_Q3_States"
   ]
  },
  {
   "cell_type": "code",
   "execution_count": null,
   "metadata": {},
   "outputs": [],
   "source": [
    "#6.3 Sorting the counts of Status of Complaints by every state for Q3\n",
    "DF_Q3_States_Counts = DF_Q3_States.groupby('State')['Final_Status'].value_counts().unstack().fillna(0)\n",
    "DF_Q3_States_Counts = pd.DataFrame(DF_Q3_States_Counts)\n",
    "DF_Q3_States_Counts['Total'] = DF_Q3_States_Counts['Closed'] + DF_Q3_States_Counts['Open']\n",
    "DF_Q3_States_Sorted = DF_Q3_States_Counts.sort_values(by='Total')\n",
    "DF_Q3_States_Sorted"
   ]
  },
  {
   "cell_type": "code",
   "execution_count": null,
   "metadata": {},
   "outputs": [],
   "source": [
    "#6.4 Plotting the Stacked bar chart\n",
    "\n",
    "import matplotlib.pyplot as plt\n",
    "\n",
    "labels = DF_Q3_States_Sorted.index\n",
    "Open = DF_Q3_States_Sorted['Open']\n",
    "Closed = DF_Q3_States_Sorted['Closed']\n",
    "width = 0.5\n",
    "fig, ax = plt.subplots()\n",
    "ax.barh(labels, Open, width, label='Open')\n",
    "ax.barh(labels, Closed, width, left = Open, label='Closed')\n",
    "ax.set_ylabel('States')\n",
    "ax.set_xlabel('Counts')\n",
    "ax.set_title('Status of Complaints for Q3')\n",
    "ax.legend()\n",
    "fig = plt.gcf()     # Get current figure\n",
    "fig.set_size_inches(18.5, 10.5)\n",
    "plt.show()"
   ]
  },
  {
   "cell_type": "markdown",
   "metadata": {},
   "source": [
    "The above Stacked bar chart shows that the highest number of complaints in Q3 - 2015 were received in Florida with\n",
    "a good closure rate of 26/30 complaints."
   ]
  },
  {
   "cell_type": "markdown",
   "metadata": {},
   "source": [
    "6.1 Which state has the maximum complaints"
   ]
  },
  {
   "cell_type": "code",
   "execution_count": null,
   "metadata": {},
   "outputs": [],
   "source": [
    "#6.1.1 We will repeat the steps from 6.2 to 6.3\n",
    "All_States_Status = comcast_data.loc[:,['State', 'Final_Status']]\n",
    "All_States_Status"
   ]
  },
  {
   "cell_type": "code",
   "execution_count": null,
   "metadata": {},
   "outputs": [],
   "source": [
    "#6.1.2 Sorting the counts of Status of Complaints by every state for whole year\n",
    "DF_All_States_Counts = All_States_Status.groupby('State')['Final_Status'].value_counts().unstack().fillna(0)\n",
    "DF_All_States_Counts = pd.DataFrame(DF_All_States_Counts)\n",
    "DF_All_States_Counts['Total'] = DF_All_States_Counts['Closed'] + DF_All_States_Counts['Open']\n",
    "DF_All_States_Sorted = DF_All_States_Counts.sort_values(by='Total')\n",
    "DF_All_States_Sorted"
   ]
  },
  {
   "cell_type": "code",
   "execution_count": null,
   "metadata": {},
   "outputs": [],
   "source": [
    "#6.1.3 Printing State with maximum number of complaints received in 2015.\n",
    "print('State with maximum number of complaints in 2015:', DF_All_States_Sorted['Total'].idxmax(), 'with', DF_All_States_Sorted['Total'].max(), 'complaints.')"
   ]
  },
  {
   "cell_type": "code",
   "execution_count": null,
   "metadata": {},
   "outputs": [],
   "source": [
    "#6.1.4 Printing State with maximum number of complaints received in Q3, 2015.\n",
    "print('State with maximum number of complaints in Q3, 2015:', DF_Q3_States_Sorted['Total'].idxmax(), 'with', DF_Q3_States_Sorted['Total'].max(), 'complaints.')"
   ]
  },
  {
   "cell_type": "markdown",
   "metadata": {},
   "source": [
    "From above data, as per the Maximum Number of Complaints received, we can assume that for entire year of 2015\n",
    "the maximum number of Comcast users comes from the State of Georgia. > The company shall give emphasis on\n",
    "providing a better service in Geogia so as to reduce complaints."
   ]
  },
  {
   "cell_type": "markdown",
   "metadata": {},
   "source": [
    "6.2 Which state has the highest percentage of unresolved complaints"
   ]
  },
  {
   "cell_type": "code",
   "execution_count": null,
   "metadata": {},
   "outputs": [],
   "source": [
    "#6.2.1 We will take percenatge of Complaints which are unresolved that is, with status as 'Open' and adding a new column as 'Percentage'\n",
    "DF_All_States_Sorted['Percentage'] = DF_All_States_Sorted.Open / DF_All_States_Sorted.Total * 100\n",
    "DF_All_States_Sorted"
   ]
  },
  {
   "cell_type": "code",
   "execution_count": null,
   "metadata": {},
   "outputs": [],
   "source": [
    "#6.2.2 Pinting State with highest percenatge of unresolved complaints for whole year of 2015\n",
    "print('State with highest unresolved complaints in 2015:', DF_All_States_Sorted['Percentage'].idxmax(), 'with', DF_All_States_Sorted['Percentage'].max(), '%')"
   ]
  },
  {
   "cell_type": "code",
   "execution_count": null,
   "metadata": {},
   "outputs": [],
   "source": [
    "#6.2.3 Printing State with highest percentage of unresolved complaints in Q3, 2015\n",
    "DF_Q3_States_Sorted['Percentage'] = DF_Q3_States_Sorted.Open / DF_Q3_States_Sorted.Total * 100\n",
    "print('State with highest unresolved complaints in Q3, 2015:', DF_Q3_States_Sorted['Percentage'].idxmax(), 'with', DF_Q3_States_Sorted['Percentage'].max(), '%')"
   ]
  },
  {
   "cell_type": "markdown",
   "metadata": {},
   "source": [
    "Although, the complaints received by states of Kansas(for entire year) and Utah(for Q3) are low, their rate of closure\n",
    "is pretty low as half of the complaints remain unresolved in Kansas(for entire year) and Utah(for Q3).\n"
   ]
  },
  {
   "cell_type": "markdown",
   "metadata": {},
   "source": [
    "6.3 Provide the percentage of complaints resolved till date, which were received through the Internet and customer\n",
    "care calls."
   ]
  },
  {
   "cell_type": "code",
   "execution_count": null,
   "metadata": {},
   "outputs": [],
   "source": [
    "#6.3.1 We will take percenatge of Complaints which are resolved that is, with stas as 'Closed' and adding a new column as 'Percentage' for complaints received via Call or via Internet\n",
    "DF_Medium_of_Receival = comcast_data.loc[:,['Received Via', 'Final_Status']]\n",
    "Medium_of_Receival = DF_Medium_of_Receival.groupby('Received Via')['Final_Status'].value_counts().unstack().fillna(0)\n",
    "Medium_of_Receival['Total'] = Medium_of_Receival['Closed'] + Medium_of_Receival['Open']\n",
    "Medium_of_Receival['Percentage'] = Medium_of_Receival.Closed / Medium_of_Receival.Total * 100\n",
    "Medium_of_Receival"
   ]
  },
  {
   "cell_type": "code",
   "execution_count": null,
   "metadata": {},
   "outputs": [],
   "source": [
    "#6.3.2 Taking the difference of percentage.\n",
    "Medium_of_Receival_Difference = Medium_of_Receival.loc[:,['Percentage']]\n",
    "Medium_of_Receival_Difference.loc['Diff'] = Medium_of_Receival_Difference.loc['Customer Care Call'] - Medium_of_Receival_Difference.loc['Internet']\n",
    "Medium_of_Receival_Difference.loc['Diff']"
   ]
  },
  {
   "cell_type": "markdown",
   "metadata": {},
   "source": [
    "The above table shows the percentage of Resolved Complaints resolved each via Custmer Care Call and via Internet\n",
    "for the whole year of 2015. > This shows that for the whole year of 2015, Closure Rate of Complaints received via Customer\n",
    "Care Calls is slightly better than that of Closure Rate of Complaints received via Internet by a difference of 0.922203 %."
   ]
  },
  {
   "cell_type": "code",
   "execution_count": null,
   "metadata": {},
   "outputs": [],
   "source": [
    "#6.3.3 We will take percenatge of Complaints which are resolved in Q3, 2015 that is, with status as 'Closed' and adding a new column as 'Percentage' for complaints received via Call or via Internet.\n",
    "\n",
    "DF_Medium_of_Receival_Q3 = DF_Q3.loc[:,['Received Via', 'Final_Status']]\n",
    "Medium_of_Receival_Q3 = DF_Medium_of_Receival_Q3.groupby('Received Via')['Final_Status'].value_counts().unstack().fillna(0)\n",
    "Medium_of_Receival_Q3['Total'] = Medium_of_Receival_Q3['Closed'] + Medium_of_Receival_Q3['Open']\n",
    "Medium_of_Receival_Q3['Percentage'] = Medium_of_Receival_Q3.Closed / Medium_of_Receival_Q3.Total * 100\n",
    "Medium_of_Receival_Q3"
   ]
  },
  {
   "cell_type": "code",
   "execution_count": null,
   "metadata": {},
   "outputs": [],
   "source": [
    "#6.3.4 Taking the difference of percentage.\n",
    "\n",
    "Medium_of_Receival_Q3_Difference = Medium_of_Receival_Q3.loc[:,['Percentage']]\n",
    "Medium_of_Receival_Q3_Difference.loc['Diff'] = Medium_of_Receival_Q3_Difference.loc['Customer Care Call'] - Medium_of_Receival_Q3_Difference.loc['Internet']\n",
    "Medium_of_Receival_Q3_Difference.loc['Diff']"
   ]
  },
  {
   "cell_type": "markdown",
   "metadata": {},
   "source": [
    "The above table shows the percentage of Complaints resolved each via Custmer Care Call and via Internet for Q3,\n",
    "2015. > This shows that for Q3, 2015, Closure Rate of Complaints received via Customer Care Calls is much better than that\n",
    "of Closure Rate of Complaints received via Internet by a difference of 9.576225 %. > This tells us that the Company needs to\n",
    "improve their Services to complaints received via Internet.\n"
   ]
  }
 ],
 "metadata": {
  "kernelspec": {
   "display_name": "Python 3",
   "language": "python",
   "name": "python3"
  },
  "language_info": {
   "codemirror_mode": {
    "name": "ipython",
    "version": 3
   },
   "file_extension": ".py",
   "mimetype": "text/x-python",
   "name": "python",
   "nbconvert_exporter": "python",
   "pygments_lexer": "ipython3",
   "version": "3.8.5"
  }
 },
 "nbformat": 4,
 "nbformat_minor": 4
}
